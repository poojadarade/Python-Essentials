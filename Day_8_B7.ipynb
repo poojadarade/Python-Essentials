{
  "nbformat": 4,
  "nbformat_minor": 0,
  "metadata": {
    "colab": {
      "name": "Day 8-B7.ipynb",
      "provenance": [],
      "authorship_tag": "ABX9TyOlE5CfldvBo1BWUd9DZ35w",
      "include_colab_link": true
    },
    "kernelspec": {
      "name": "python3",
      "display_name": "Python 3"
    }
  },
  "cells": [
    {
      "cell_type": "markdown",
      "metadata": {
        "id": "view-in-github",
        "colab_type": "text"
      },
      "source": [
        "<a href=\"https://colab.research.google.com/github/poojadarade/Python-Essentials/blob/master/Day_8_B7.ipynb\" target=\"_parent\"><img src=\"https://colab.research.google.com/assets/colab-badge.svg\" alt=\"Open In Colab\"/></a>"
      ]
    },
    {
      "cell_type": "markdown",
      "metadata": {
        "id": "0eu-d1Wuab1C",
        "colab_type": "text"
      },
      "source": [
        "# Question 1"
      ]
    },
    {
      "cell_type": "markdown",
      "metadata": {
        "id": "8FwCEUlnarHI",
        "colab_type": "text"
      },
      "source": [
        "Write a decorator function for your taking input for you any kind of function you want to build,\n",
        "For example - You make a fibonacci series function,in which your input range is been defined by\n",
        "the decorator program input."
      ]
    },
    {
      "cell_type": "code",
      "metadata": {
        "id": "qRwQhDnJa0h4",
        "colab_type": "code",
        "colab": {
          "base_uri": "https://localhost:8080/",
          "height": 34
        },
        "outputId": "fd07ca55-5ea3-4049-8693-c63c35973afd"
      },
      "source": [
        "def memoize(f):\n",
        "    memo = {}\n",
        "    def helper(x):\n",
        "        if x not in memo:            \n",
        "            memo[x] = f(x)\n",
        "        return memo[x]\n",
        "    return helper\n",
        "    \n",
        "@memoize\n",
        "def fib(n):\n",
        "    if n == 0:\n",
        "        return 0\n",
        "    elif n == 1:\n",
        "        return 1\n",
        "    else:\n",
        "        return fib(n-1) + fib(n-2)\n",
        "\n",
        "print(fib(40))"
      ],
      "execution_count": 10,
      "outputs": [
        {
          "output_type": "stream",
          "text": [
            "102334155\n"
          ],
          "name": "stdout"
        }
      ]
    },
    {
      "cell_type": "markdown",
      "metadata": {
        "id": "UnSVBhpIhlJv",
        "colab_type": "text"
      },
      "source": [
        "# Question 2"
      ]
    },
    {
      "cell_type": "markdown",
      "metadata": {
        "id": "-19MXKwfiAuk",
        "colab_type": "text"
      },
      "source": [
        "For this challenge you need to develop a Python program to open a file in read only mode and try\n",
        "writing something to it and handle the subsequent errors using Exception Handling."
      ]
    },
    {
      "cell_type": "code",
      "metadata": {
        "id": "lUhAmOmBhXqv",
        "colab_type": "code",
        "colab": {
          "base_uri": "https://localhost:8080/",
          "height": 34
        },
        "outputId": "04cd33f6-1585-4bbf-ab7b-c45b45b34a94"
      },
      "source": [
        "import sys\n",
        "\n",
        "try:\n",
        "    f = open('integers.txt')\n",
        "    s = f.readline()\n",
        "    i = int(s.strip())\n",
        "except IOError as e:\n",
        "    errno, strerror = e.args\n",
        "    print(\"I/O error({0}): {1}\".format(errno,strerror))\n",
        "    \n",
        "except ValueError:\n",
        "    print(\"No valid integer in line.\")\n",
        "except:\n",
        "    print(\"Unexpected error:\", sys.exc_info()[0])\n",
        "    raise"
      ],
      "execution_count": 6,
      "outputs": [
        {
          "output_type": "stream",
          "text": [
            "I/O error(2): No such file or directory\n"
          ],
          "name": "stdout"
        }
      ]
    }
  ]
}