{
  "nbformat": 4,
  "nbformat_minor": 0,
  "metadata": {
    "colab": {
      "name": "Day 4- B7.ipynb",
      "provenance": [],
      "authorship_tag": "ABX9TyNZD1JJha2hunTTr9zkIDyS",
      "include_colab_link": true
    },
    "kernelspec": {
      "name": "python3",
      "display_name": "Python 3"
    }
  },
  "cells": [
    {
      "cell_type": "markdown",
      "metadata": {
        "id": "view-in-github",
        "colab_type": "text"
      },
      "source": [
        "<a href=\"https://colab.research.google.com/github/poojadarade/Python-Essentials/blob/master/Day_4_B7.ipynb\" target=\"_parent\"><img src=\"https://colab.research.google.com/assets/colab-badge.svg\" alt=\"Open In Colab\"/></a>"
      ]
    },
    {
      "cell_type": "markdown",
      "metadata": {
        "id": "_P2c1J-DyzD5",
        "colab_type": "text"
      },
      "source": [
        "# Assignment Day 4 "
      ]
    },
    {
      "cell_type": "code",
      "metadata": {
        "id": "J6XW4edYy6u8",
        "colab_type": "code",
        "colab": {
          "base_uri": "https://localhost:8080/",
          "height": 34
        },
        "outputId": "b1a0975f-8e05-4e05-d5ee-dc1387055639"
      },
      "source": [
        "for item in range(1042000,702648265):\n",
        "  sum=0\n",
        "  temp = item\n",
        "  lenght = len(str(item))\n",
        "\n",
        "  while temp > 0:\n",
        "    digit = temp%10\n",
        "    sum+= digit ** lenght\n",
        "    temp //= 10\n",
        "\n",
        "  if item == sum:\n",
        "    print(item,\"is an Armstrong number\")\n",
        "    break\n"
      ],
      "execution_count": 5,
      "outputs": [
        {
          "output_type": "stream",
          "text": [
            "1741725 is an Armstrong number\n"
          ],
          "name": "stdout"
        }
      ]
    },
    {
      "cell_type": "code",
      "metadata": {
        "id": "ltze9FpA11u_",
        "colab_type": "code",
        "colab": {}
      },
      "source": [
        ""
      ],
      "execution_count": null,
      "outputs": []
    }
  ]
}