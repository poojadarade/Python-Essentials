{
  "nbformat": 4,
  "nbformat_minor": 0,
  "metadata": {
    "colab": {
      "name": "Day-3  B7.ipynb",
      "provenance": [],
      "authorship_tag": "ABX9TyNGZWTC6dqlbDAE5uil0Vd0",
      "include_colab_link": true
    },
    "kernelspec": {
      "name": "python3",
      "display_name": "Python 3"
    }
  },
  "cells": [
    {
      "cell_type": "markdown",
      "metadata": {
        "id": "view-in-github",
        "colab_type": "text"
      },
      "source": [
        "<a href=\"https://colab.research.google.com/github/poojadarade/Python-Essentials/blob/master/Day_3_B7.ipynb\" target=\"_parent\"><img src=\"https://colab.research.google.com/assets/colab-badge.svg\" alt=\"Open In Colab\"/></a>"
      ]
    },
    {
      "cell_type": "markdown",
      "metadata": {
        "id": "DH0NCIdHBl5r",
        "colab_type": "text"
      },
      "source": [
        "# Assignment 1 Day 3"
      ]
    },
    {
      "cell_type": "code",
      "metadata": {
        "id": "CQfYsx6WH8kM",
        "colab_type": "code",
        "colab": {
          "base_uri": "https://localhost:8080/",
          "height": 34
        },
        "outputId": "096531b2-b137-48e4-a8b3-9ad8975d9f81"
      },
      "source": [
        "altitude = int(input(\"Enter the flight current altitude- \"))"
      ],
      "execution_count": null,
      "outputs": [
        {
          "output_type": "stream",
          "text": [
            "Enter the flight current altitude- 1200\n"
          ],
          "name": "stdout"
        }
      ]
    },
    {
      "cell_type": "code",
      "metadata": {
        "id": "2qJozeKzJ-7a",
        "colab_type": "code",
        "colab": {
          "base_uri": "https://localhost:8080/",
          "height": 34
        },
        "outputId": "beb47b72-c91d-4c75-d1b6-a43ec768efea"
      },
      "source": [
        "if altitude >=6500:\n",
        "  print(\"Turn Around\");\n",
        "elif altitude<6500 and altitude >= 4500:\n",
        "  print(\"Bring down to 1000\");\n",
        "elif altitude<4500 and altitude>=1000:\n",
        "  print(\"Safe to land\");"
      ],
      "execution_count": null,
      "outputs": [
        {
          "output_type": "stream",
          "text": [
            "Safe to land\n"
          ],
          "name": "stdout"
        }
      ]
    },
    {
      "cell_type": "code",
      "metadata": {
        "id": "XdCkv0gcNJ9n",
        "colab_type": "code",
        "colab": {}
      },
      "source": [
        ""
      ],
      "execution_count": null,
      "outputs": []
    },
    {
      "cell_type": "markdown",
      "metadata": {
        "id": "DWd_g4uyNh4O",
        "colab_type": "text"
      },
      "source": [
        "# Assignment 2 Day 3"
      ]
    },
    {
      "cell_type": "markdown",
      "metadata": {
        "id": "gFS_urMFOWNV",
        "colab_type": "text"
      },
      "source": [
        "*Program to check if a number is prime or not*"
      ]
    },
    {
      "cell_type": "code",
      "metadata": {
        "id": "iz8F8iN5QNYc",
        "colab_type": "code",
        "colab": {
          "base_uri": "https://localhost:8080/",
          "height": 826
        },
        "outputId": "56811fcf-7fc3-43f0-cf7c-11c5a6a7f5fe"
      },
      "source": [
        "for item in range(1,200):\n",
        "  num = item\n",
        "  if num > 1:\n",
        "    for i in range(2,int(num)):\n",
        "      if (num%i) == 0:\n",
        "        break\n",
        "    else:\n",
        "      print(num,\"is prime number\")\n",
        "          "
      ],
      "execution_count": 1,
      "outputs": [
        {
          "output_type": "stream",
          "text": [
            "2 is prime number\n",
            "3 is prime number\n",
            "5 is prime number\n",
            "7 is prime number\n",
            "11 is prime number\n",
            "13 is prime number\n",
            "17 is prime number\n",
            "19 is prime number\n",
            "23 is prime number\n",
            "29 is prime number\n",
            "31 is prime number\n",
            "37 is prime number\n",
            "41 is prime number\n",
            "43 is prime number\n",
            "47 is prime number\n",
            "53 is prime number\n",
            "59 is prime number\n",
            "61 is prime number\n",
            "67 is prime number\n",
            "71 is prime number\n",
            "73 is prime number\n",
            "79 is prime number\n",
            "83 is prime number\n",
            "89 is prime number\n",
            "97 is prime number\n",
            "101 is prime number\n",
            "103 is prime number\n",
            "107 is prime number\n",
            "109 is prime number\n",
            "113 is prime number\n",
            "127 is prime number\n",
            "131 is prime number\n",
            "137 is prime number\n",
            "139 is prime number\n",
            "149 is prime number\n",
            "151 is prime number\n",
            "157 is prime number\n",
            "163 is prime number\n",
            "167 is prime number\n",
            "173 is prime number\n",
            "179 is prime number\n",
            "181 is prime number\n",
            "191 is prime number\n",
            "193 is prime number\n",
            "197 is prime number\n",
            "199 is prime number\n"
          ],
          "name": "stdout"
        }
      ]
    },
    {
      "cell_type": "code",
      "metadata": {
        "id": "7CFZm1B8Usda",
        "colab_type": "code",
        "colab": {}
      },
      "source": [
        ""
      ],
      "execution_count": null,
      "outputs": []
    }
  ]
}